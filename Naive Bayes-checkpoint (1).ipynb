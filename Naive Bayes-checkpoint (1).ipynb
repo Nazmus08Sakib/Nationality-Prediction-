{
 "cells": [
  {
   "cell_type": "code",
   "execution_count": 30,
   "metadata": {},
   "outputs": [],
   "source": [
    "# import dependencies\n",
    "import numpy as np\n",
    "import pandas as pd"
   ]
  },
  {
   "cell_type": "code",
   "execution_count": 31,
   "metadata": {},
   "outputs": [],
   "source": [
    "# column has all the name of column name \n",
    "# our data is stored in dataframe: data\n",
    "\n",
    "column = [\"gender\",\"ethnicity\",\"age\",\"height\",\"weight\",\"hair_color\",\"eye_color\",\"country\"]\n",
    "data = pd.read_csv('data.csv')"
   ]
  },
  {
   "cell_type": "code",
   "execution_count": 32,
   "metadata": {},
   "outputs": [
    {
     "data": {
      "text/html": [
       "<div>\n",
       "<style scoped>\n",
       "    .dataframe tbody tr th:only-of-type {\n",
       "        vertical-align: middle;\n",
       "    }\n",
       "\n",
       "    .dataframe tbody tr th {\n",
       "        vertical-align: top;\n",
       "    }\n",
       "\n",
       "    .dataframe thead th {\n",
       "        text-align: right;\n",
       "    }\n",
       "</style>\n",
       "<table border=\"1\" class=\"dataframe\">\n",
       "  <thead>\n",
       "    <tr style=\"text-align: right;\">\n",
       "      <th></th>\n",
       "      <th>gender</th>\n",
       "      <th>ethnicity</th>\n",
       "      <th>age</th>\n",
       "      <th>height</th>\n",
       "      <th>weight</th>\n",
       "      <th>hair_color</th>\n",
       "      <th>eye_color</th>\n",
       "      <th>country</th>\n",
       "    </tr>\n",
       "  </thead>\n",
       "  <tbody>\n",
       "    <tr>\n",
       "      <th>0</th>\n",
       "      <td>0</td>\n",
       "      <td>0</td>\n",
       "      <td>53</td>\n",
       "      <td>1.84</td>\n",
       "      <td>62</td>\n",
       "      <td>0</td>\n",
       "      <td>0</td>\n",
       "      <td>0</td>\n",
       "    </tr>\n",
       "    <tr>\n",
       "      <th>1</th>\n",
       "      <td>1</td>\n",
       "      <td>1</td>\n",
       "      <td>68</td>\n",
       "      <td>2.01</td>\n",
       "      <td>85</td>\n",
       "      <td>1</td>\n",
       "      <td>0</td>\n",
       "      <td>0</td>\n",
       "    </tr>\n",
       "    <tr>\n",
       "      <th>2</th>\n",
       "      <td>1</td>\n",
       "      <td>1</td>\n",
       "      <td>65</td>\n",
       "      <td>1.94</td>\n",
       "      <td>103</td>\n",
       "      <td>1</td>\n",
       "      <td>1</td>\n",
       "      <td>1</td>\n",
       "    </tr>\n",
       "    <tr>\n",
       "      <th>3</th>\n",
       "      <td>0</td>\n",
       "      <td>2</td>\n",
       "      <td>69</td>\n",
       "      <td>1.59</td>\n",
       "      <td>52</td>\n",
       "      <td>2</td>\n",
       "      <td>2</td>\n",
       "      <td>2</td>\n",
       "    </tr>\n",
       "    <tr>\n",
       "      <th>4</th>\n",
       "      <td>0</td>\n",
       "      <td>2</td>\n",
       "      <td>28</td>\n",
       "      <td>1.53</td>\n",
       "      <td>72</td>\n",
       "      <td>3</td>\n",
       "      <td>3</td>\n",
       "      <td>3</td>\n",
       "    </tr>\n",
       "  </tbody>\n",
       "</table>\n",
       "</div>"
      ],
      "text/plain": [
       "   gender  ethnicity  age  height  weight  hair_color  eye_color  country\n",
       "0       0          0   53    1.84      62           0          0        0\n",
       "1       1          1   68    2.01      85           1          0        0\n",
       "2       1          1   65    1.94     103           1          1        1\n",
       "3       0          2   69    1.59      52           2          2        2\n",
       "4       0          2   28    1.53      72           3          3        3"
      ]
     },
     "execution_count": 32,
     "metadata": {},
     "output_type": "execute_result"
    }
   ],
   "source": [
    "data.head()"
   ]
  },
  {
   "cell_type": "code",
   "execution_count": 33,
   "metadata": {},
   "outputs": [],
   "source": [
    "X = data.iloc[:,0:-1] # X is the features in our dataset\n",
    "y = data.iloc[:,-1]   # y is the Labels in our dataset"
   ]
  },
  {
   "cell_type": "code",
   "execution_count": 34,
   "metadata": {},
   "outputs": [],
   "source": [
    "# divide the dataset in train test using scikit learn\n",
    "# now the model will train in training dataset and then we will use test dataset to predict its accuracy\n",
    "\n",
    "from sklearn.model_selection import train_test_split\n",
    "\n",
    "X_train, X_test, y_train, y_test = train_test_split(X, y, test_size=0.33, random_state=42) "
   ]
  },
  {
   "cell_type": "code",
   "execution_count": 35,
   "metadata": {},
   "outputs": [],
   "source": [
    "# now preparing our model as per Gaussian Naive Bayesian\n",
    "\n",
    "from sklearn.naive_bayes import GaussianNB\n",
    "\n",
    "model = GaussianNB().fit(X_train, y_train) #fitting our model"
   ]
  },
  {
   "cell_type": "code",
   "execution_count": 36,
   "metadata": {},
   "outputs": [],
   "source": [
    "predicted_y = model.predict(X_test) #now predicting our model to our test dataset"
   ]
  },
  {
   "cell_type": "code",
   "execution_count": 37,
   "metadata": {},
   "outputs": [],
   "source": [
    "from sklearn.metrics import accuracy_score\n",
    "\n",
    "# now calculating that how much accurate our model is with comparing our predicted values and y_test values\n",
    "accuracy_score = accuracy_score(y_test, predicted_y) \n",
    "#print (accuracy_score)"
   ]
  },
  {
   "cell_type": "code",
   "execution_count": 38,
   "metadata": {},
   "outputs": [],
   "source": [
    "genderIndex = {'Female':0,'Male':1}\n",
    "ethnicityIndex = {'Asian':1,'Black':2,'White':0}\n",
    "hairColorIndex = {'Auburn':5,'Black':4,'Blond':6,'Brown':3,'Gray':2,'Red':1,'White':0}\n",
    "eyeColorIndex = {'Amber':3,'Blue':5,'Brown':4,'Gray':6,'Green':0,'Hazel':1,'Violet':2}\n",
    "# countryIndex = {'Argentina':47,'Armenia':48,'Australia':25,'Austria':24,'Bangladesh':10,'Belgium':11,'Bosnia and Herzegovina':17,'Brazil':68,'Bulgaria':9,'Canada':31,'China':43,'Croatia':3,'Cyprus':53,'Czech Republic':22,'Denmark':18,'Egypt':63,'Estonia':54,'Finland':1,'France':50,'Georgia':42,'Great Britain':13,'Greece':66,'Hong Kong':7,'Hungary':46,'Iceland':38,'India':5,'Indonesia':45,'Iran':49,'Israil':26,'Italia':59,'Japan':30,'Jordan':39,'Kazakhstan':36,'Latvia':19,'Lithuania':58,'Malaysia':14,'Mexico':12,'Moldova':6,'Mongolia':34,'Montenegro':51,'Nepal':29,'Netherlands':64,'New Zeland':35,'Nigeria':56,'Norway':32,'Peru':60,'Philippines':27,'Poland':2,'Portugal':55,'Romania':21,'Russia':67,'Saudi Arabia':0,'Serbia':40,'Singapore':33,'Slovakia':52,'Slovenia':61,'South Africa':57,'South Korea':41,'Spain':4,'Sweden':44,'Switzerland':62,'Taiwan':23,'Thailand':20,'Turkey':28,'USA':37,'Uganda':8,'Ukraine':16,'Venezuela':65,'Vietnam':15}\n",
    "countryIndex = {0:'Saudi Arabia',1:'Finland',2:'Poland',3:'Croatia',4:'Spain',5:'India',6:'Moldova',7:'Hong Kong',8:'Uganda',9:'Bulgaria',10:'Bangladesh',11:'Belgium',12:'Mexico',13:'Great Britain',14:'Malaysia',15:'Vietnam',16:'Ukraine',17:'Bosnia and Herzegovina',18:'Denmark',19:'Latvia',20:'Thailand',21:'Romania',22:'Czech Republic',23:'Taiwan',24:'Austria',25:'Australia',26:'Israil',27:'Philippines',28:'Turkey',29:'Nepal',30:'Japan',31:'Canada',32:'Norway',33:'Singapore',34:'Mongolia',35:'New Zeland',36:'Kazakhstan',37:'USA',38:'Iceland',39:'Jordan',40:'Serbia',41:'South Korea',42:'Georgia',43:'China',44:'Sweden',45:'Indonesia',46:'Hungary',47:'Argentina',48:'Armenia',49:'Iran',50:'France',51:'Montenegro',52:'Slovakia',53:'Cyprus',54:'Estonia',55:'Portugal',56:'Nigeria',57:'South Africa',58:'Lithuania',59:'Italia',60:'Peru',61:'Slovenia',62:'Switzerland',63:'Egypt',64:'Netherlands',65:'Venezuela',66:'Greece',67:'Russia',68:'Brazil'}\n",
    "\n",
    "# print(hairColorIndex)\n",
    "# print(eyeColorIndex)\n"
   ]
  },
  {
   "cell_type": "code",
   "execution_count": 39,
   "metadata": {},
   "outputs": [],
   "source": [
    "# Lets test our model with random input"
   ]
  },
  {
   "cell_type": "code",
   "execution_count": 41,
   "metadata": {},
   "outputs": [
    {
     "name": "stdout",
     "output_type": "stream",
     "text": [
      "Gender: Male\n",
      "Ethnicity: White\n",
      "Age: 45\n",
      "Height: 203\n",
      "Weight: 80\n",
      "Hair Color: Black\n",
      "Eye Color: Blue\n"
     ]
    },
    {
     "data": {
      "text/html": [
       "<div>\n",
       "<style scoped>\n",
       "    .dataframe tbody tr th:only-of-type {\n",
       "        vertical-align: middle;\n",
       "    }\n",
       "\n",
       "    .dataframe tbody tr th {\n",
       "        vertical-align: top;\n",
       "    }\n",
       "\n",
       "    .dataframe thead th {\n",
       "        text-align: right;\n",
       "    }\n",
       "</style>\n",
       "<table border=\"1\" class=\"dataframe\">\n",
       "  <thead>\n",
       "    <tr style=\"text-align: right;\">\n",
       "      <th></th>\n",
       "      <th>gender</th>\n",
       "      <th>ethnicity</th>\n",
       "      <th>age</th>\n",
       "      <th>height</th>\n",
       "      <th>weight</th>\n",
       "      <th>hair_color</th>\n",
       "      <th>eye_color</th>\n",
       "    </tr>\n",
       "  </thead>\n",
       "  <tbody>\n",
       "    <tr>\n",
       "      <th>0</th>\n",
       "      <td>1</td>\n",
       "      <td>0</td>\n",
       "      <td>45</td>\n",
       "      <td>203</td>\n",
       "      <td>80</td>\n",
       "      <td>4</td>\n",
       "      <td>5</td>\n",
       "    </tr>\n",
       "  </tbody>\n",
       "</table>\n",
       "</div>"
      ],
      "text/plain": [
       "   gender  ethnicity age height weight  hair_color  eye_color\n",
       "0       1          0  45    203     80           4          5"
      ]
     },
     "execution_count": 41,
     "metadata": {},
     "output_type": "execute_result"
    }
   ],
   "source": [
    "# Create an empty dataframe that we have to predict \n",
    "person = pd.DataFrame()\n",
    "\n",
    "# Create some feature values for this single row\n",
    "person['gender'] = [genderIndex[input('Gender: ')]]\n",
    "person['ethnicity'] = [ethnicityIndex[input('Ethnicity: ')]]\n",
    "person['age'] = [input('Age: ')]\n",
    "person['height'] = [input('Height: ')]\n",
    "person['weight'] = [input('Weight: ')]\n",
    "person['hair_color'] = [hairColorIndex[input('Hair Color: ')]]\n",
    "person['eye_color'] = [eyeColorIndex[input('Eye Color: ')]]\n",
    "\n",
    "# View the data \n",
    "person\n",
    "\n",
    "\n",
    "# input person info\n"
   ]
  },
  {
   "cell_type": "code",
   "execution_count": 42,
   "metadata": {},
   "outputs": [],
   "source": [
    "# the data is stored in Datadrame person\n",
    "predicted_y = model.predict(person)"
   ]
  },
  {
   "cell_type": "code",
   "execution_count": 43,
   "metadata": {
    "scrolled": true
   },
   "outputs": [
    {
     "name": "stdout",
     "output_type": "stream",
     "text": [
      "Latvia\n"
     ]
    }
   ],
   "source": [
    "# print (predicted_y)\n",
    "res = int(predicted_y)\n",
    "print(countryIndex[res])"
   ]
  },
  {
   "cell_type": "code",
   "execution_count": 1,
   "metadata": {},
   "outputs": [],
   "source": [
    "#import matplotlib.pyplot as plt\n",
    "#import seborn as sns\n",
    "#country = sns.load_dataset('country')\n"
   ]
  },
  {
   "cell_type": "code",
   "execution_count": 2,
   "metadata": {},
   "outputs": [
    {
     "data": {
      "text/plain": [
       "'\"\\nimport matplotlib.pyplot as plt\\n%matplotlib  inline\\nplt.plot(range(1,30),score)\\nplt.xlabel(\\'Value of k for KNN\\')\\nplt.ylabel(\\'Testing Accuracy\\')\\nplt.title(\\'Scatter plot between X and Y\\')  \\n'"
      ]
     },
     "execution_count": 2,
     "metadata": {},
     "output_type": "execute_result"
    }
   ],
   "source": [
    "\"\"\"\"\n",
    "import matplotlib.pyplot as plt\n",
    "%matplotlib  inline\n",
    "plt.plot(range(1,30),score)\n",
    "plt.xlabel('Value of k for KNN')\n",
    "plt.ylabel('Testing Accuracy')\n",
    "plt.title('Scatter plot between X and Y')  \n",
    "\"\"\"\n"
   ]
  },
  {
   "cell_type": "code",
   "execution_count": null,
   "metadata": {},
   "outputs": [],
   "source": []
  }
 ],
 "metadata": {
  "kernelspec": {
   "display_name": "Python 3",
   "language": "python",
   "name": "python3"
  },
  "language_info": {
   "codemirror_mode": {
    "name": "ipython",
    "version": 3
   },
   "file_extension": ".py",
   "mimetype": "text/x-python",
   "name": "python",
   "nbconvert_exporter": "python",
   "pygments_lexer": "ipython3",
   "version": "3.7.6"
  }
 },
 "nbformat": 4,
 "nbformat_minor": 2
}
